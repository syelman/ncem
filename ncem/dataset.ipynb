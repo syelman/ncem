{
 "cells": [
  {
   "cell_type": "code",
   "execution_count": 1,
   "metadata": {},
   "outputs": [],
   "source": [
    "%load_ext autoreload\n",
    "%autoreload 2\n",
    "\n",
    "import ncem\n",
    "import matplotlib.pyplot as plt\n",
    "import pandas as pd\n",
    "import os.path as osp\n",
    "import scanpy as sc\n",
    "import pytorch_lightning as pl\n",
    "import squidpy as sq\n",
    "sc.settings.set_figure_params(dpi=80)\n",
    "import warnings\n",
    "warnings.filterwarnings(\"ignore\")\n",
    "from ncem.data import DataLoaderHartmann\n",
    "\n",
    "import torch_geometric,torch\n",
    "from torch_geometric.data import Data, Dataset, InMemoryDataset, LightningDataset\n",
    "from torch_geometric.loader import NeighborLoader\n",
    "\n",
    "\n",
    "\n",
    "## PyTorch\n",
    "import torch\n",
    "import torch.nn as nn\n",
    "import torch.nn.functional as F\n",
    "import torch.utils.data as data\n",
    "import torch.optim as optim"
   ]
  },
  {
   "cell_type": "markdown",
   "metadata": {},
   "source": [
    "## Dataset Class"
   ]
  },
  {
   "cell_type": "code",
   "execution_count": 2,
   "metadata": {},
   "outputs": [],
   "source": [
    "class HartmannWrapper(Dataset):\n",
    "    def __init__(self, root='./data', transform=None, pre_transform=None, pre_filter=None):\n",
    "        self.img_count = 58\n",
    "        self.root = root\n",
    "        super().__init__(root, transform, pre_transform, pre_filter)\n",
    "    \n",
    "    # raw file name\n",
    "    @property\n",
    "    def raw_file_names(self):\n",
    "        return ['scMEP_MIBI_singlecell/scMEP_MIBI_singlecell.csv']\n",
    "\n",
    "    \n",
    "    # Each graph is saved as a file\n",
    "    # Is this ideal?\n",
    "    @property\n",
    "    def processed_file_names(self):\n",
    "        return [f'data_{idx}.pt' for idx in range(self.img_count)]\n",
    "\n",
    "\n",
    "    def process(self):\n",
    "        \n",
    "        # Read from already implemented DataLoader to load to np/cpu\n",
    "        self.interpreter = ncem.interpretation.interpreter.InterpreterInteraction()\n",
    "        ip = self.interpreter\n",
    "        # Read data from `raw_path`.\n",
    "        ip.get_data(\n",
    "            data_origin='hartmann',\n",
    "            data_path=self.root,\n",
    "            radius=35,\n",
    "            node_label_space_id='type',\n",
    "            node_feature_space_id='standard',\n",
    "        )\n",
    "        for idx,k in enumerate(ip.a.keys()):\n",
    "            a,h_0,h_1,domains,node_covar,sf = ip.a[k],ip.h_0[k],ip.h_1[k],ip.domains[k],ip.node_covar[k],ip.size_factors[k]\n",
    "            \n",
    "            # Edge list (2,n_edges)\n",
    "            row,col = a.nonzero()\n",
    "            edge_index = torch.LongTensor([row.tolist(), col.tolist()])\n",
    "            \n",
    "            \n",
    "            # X_c from the paper (n_domains=58)\n",
    "            # one hot vector\n",
    "            # g = torch.zeros(ip.n_domains)\n",
    "            # g[domains] = 1\n",
    "            # Note: Not used since dataloader encodes the batch id\n",
    "            \n",
    "            # X_l from paper (n_node, n_celltypes=8) n_celltypes: count of distinct cell-type labels\n",
    "            h_0=torch.from_numpy(h_0)\n",
    "            \n",
    "            # size factor\n",
    "            sf=torch.from_numpy(sf)\n",
    "            \n",
    "            # Y from paper (n_node, n_genes)\n",
    "            h_1 = torch.from_numpy(h_1)\n",
    "            \n",
    "            # x for pygeometric convention is node to features\n",
    "            x = torch.hstack((h_0,h_1)).to(torch.float32)\n",
    "            \n",
    "            \n",
    "            # creating data object\n",
    "            data = Data(sf=sf,\n",
    "                        x = x,\n",
    "                        edge_index=edge_index)\n",
    "            \n",
    "            # saving it as file\n",
    "            torch.save(data, osp.join(self.processed_dir, f'data_{idx}.pt'))\n",
    "            \n",
    "            \n",
    "    def len(self):\n",
    "        return len(self.processed_file_names)\n",
    "\n",
    "    def get(self, idx):\n",
    "        data = torch.load(osp.join(self.processed_dir, f'data_{idx}.pt'))\n",
    "        return data"
   ]
  },
  {
   "cell_type": "code",
   "execution_count": 3,
   "metadata": {
    "scrolled": true
   },
   "outputs": [
    {
     "name": "stdout",
     "output_type": "stream",
     "text": [
      "Loading data from raw files\n",
      "registering celldata\n",
      "collecting image-wise celldata\n",
      "adding graph-level covariates\n"
     ]
    },
    {
     "name": "stderr",
     "output_type": "stream",
     "text": [
      "100%|███████████████████████████████████████████████████████████████████████████████████████████████████████████████████████████████████████████████████████████████████████████████████████████████████████| 58/58 [00:01<00:00, 38.64it/s]\n"
     ]
    },
    {
     "name": "stdout",
     "output_type": "stream",
     "text": [
      "Loaded 58 images with complete data from 4 patients over 63747 cells with 36 cell features and 8 distinct celltypes.\n",
      "Mean of mean node degree per images across images: 4.416036\n"
     ]
    }
   ],
   "source": [
    "dataset = HartmannWrapper()\n",
    "dataset.process() # uncomment if the class is modified\n",
    "dataloader = torch_geometric.data.DataLoader(dataset, batch_size=1)"
   ]
  },
  {
   "cell_type": "code",
   "execution_count": 4,
   "metadata": {},
   "outputs": [
    {
     "data": {
      "text/plain": [
       "Data(x=[1338, 44], edge_index=[2, 6636], sf=[1338])"
      ]
     },
     "execution_count": 4,
     "metadata": {},
     "output_type": "execute_result"
    }
   ],
   "source": [
    "dataset[0]"
   ]
  },
  {
   "cell_type": "code",
   "execution_count": 5,
   "metadata": {},
   "outputs": [
    {
     "name": "stdout",
     "output_type": "stream",
     "text": [
      "DataBatch(x=[1338, 44], edge_index=[2, 6636], sf=[1338], batch=[1338], ptr=[2])\n",
      "DataBatch(x=[61, 44], edge_index=[2, 36], sf=[61], batch=[61], ptr=[2])\n",
      "DataBatch(x=[1316, 44], edge_index=[2, 5622], sf=[1316], batch=[1316], ptr=[2])\n",
      "DataBatch(x=[1540, 44], edge_index=[2, 7898], sf=[1540], batch=[1540], ptr=[2])\n",
      "DataBatch(x=[1822, 44], edge_index=[2, 10630], sf=[1822], batch=[1822], ptr=[2])\n",
      "DataBatch(x=[863, 44], edge_index=[2, 2236], sf=[863], batch=[863], ptr=[2])\n"
     ]
    }
   ],
   "source": [
    "# show first 5 batch\n",
    "for itr,graph in enumerate(dataloader):\n",
    "    print(graph)\n",
    "    if itr>4:\n",
    "        break"
   ]
  },
  {
   "cell_type": "code",
   "execution_count": 6,
   "metadata": {},
   "outputs": [],
   "source": [
    "example_batch = next(iter(dataloader))"
   ]
  },
  {
   "cell_type": "code",
   "execution_count": 7,
   "metadata": {},
   "outputs": [
    {
     "data": {
      "text/plain": [
       "DataBatch(x=[1338, 44], edge_index=[2, 6636], sf=[1338], batch=[1338], ptr=[2])"
      ]
     },
     "execution_count": 7,
     "metadata": {},
     "output_type": "execute_result"
    }
   ],
   "source": [
    "example_batch"
   ]
  },
  {
   "cell_type": "code",
   "execution_count": 8,
   "metadata": {},
   "outputs": [
    {
     "data": {
      "text/plain": [
       "44"
      ]
     },
     "execution_count": 8,
     "metadata": {},
     "output_type": "execute_result"
    }
   ],
   "source": [
    "dataset.num_features"
   ]
  },
  {
   "cell_type": "markdown",
   "metadata": {},
   "source": [
    "## Training Model"
   ]
  },
  {
   "cell_type": "code",
   "execution_count": 9,
   "metadata": {},
   "outputs": [],
   "source": [
    "from torch_geometric.nn import GAE,VGAE,GCNConv"
   ]
  },
  {
   "cell_type": "code",
   "execution_count": 10,
   "metadata": {},
   "outputs": [],
   "source": [
    "# taken from https://colab.research.google.com/github/AntonioLonga/PytorchGeometricTutorial/blob/main/Tutorial6/Tutorial6.ipynb\n",
    "class VariationalGCNEncoder(torch.nn.Module):\n",
    "    def __init__(self, in_channels, out_channels):\n",
    "        super(VariationalGCNEncoder, self).__init__()\n",
    "        # cached only for transductive learning\n",
    "        self.conv1 = GCNConv(in_channels, 2 * out_channels) \n",
    "        self.conv_mu = GCNConv(2 * out_channels, out_channels)\n",
    "        self.conv_logstd = GCNConv(2 * out_channels, out_channels)\n",
    "\n",
    "    def forward(self, x, edge_index):\n",
    "        x = self.conv1(x, edge_index).relu()\n",
    "        return self.conv_mu(x, edge_index), self.conv_logstd(x, edge_index)"
   ]
  },
  {
   "cell_type": "code",
   "execution_count": 11,
   "metadata": {},
   "outputs": [],
   "source": [
    "# taken from https://uvadlc-notebooks.readthedocs.io/en/latest/tutorial_notebooks/tutorial7/GNN_overview.html\n",
    "class NodeLevelGNN(pl.LightningModule):\n",
    "\n",
    "    def __init__(self, hparams, **model_kwargs):\n",
    "        super().__init__()\n",
    "        # Saving hyperparameters\n",
    "        self.save_hyperparameters(hparams)\n",
    "        \n",
    "        self.model = VGAE(VariationalGCNEncoder(hparams['num_features'], hparams['latent_dim']))\n",
    "\n",
    "    def forward(self, data, mode=\"train\"):\n",
    "        x, edge_index = data.x, data.edge_index\n",
    "        x = self.model(x, edge_index)\n",
    "\n",
    "        \n",
    "        return x\n",
    "\n",
    "    def configure_optimizers(self):\n",
    "        optimizer = optim.Adam(self.parameters(),lr=self.hparams['lr'],weight_decay=self.hparams['weight_decay'])\n",
    "        return optimizer\n",
    "\n",
    "    def training_step(self, batch, batch_idx):\n",
    "        z = self.model.encode(batch.x,batch.edge_index)\n",
    "        recon_loss = self.model.recon_loss(z, batch.edge_index)\n",
    "        kl_loss = self.model.kl_loss()\n",
    "        \n",
    "        loss = recon_loss + (1.0 / batch.num_nodes) * kl_loss\n",
    "        \n",
    "        self.log('train_recon_loss', loss)\n",
    "        self.log('train_kl_loss', loss)\n",
    "        self.log('train_loss', loss)\n",
    "        return loss\n",
    "\n",
    "    def validation_step(self, batch, batch_idx):\n",
    "        x = self.forward(batch, mode=\"val\")\n",
    "        print(x.shape,batch.shape)\n",
    "        self.log('val_acc', x)\n",
    "\n",
    "    def test_step(self, batch, batch_idx):\n",
    "        raise NotImplementedError()\n",
    "        _, acc = self.forward(batch, mode=\"test\")\n",
    "        self.log('test_acc', acc)"
   ]
  },
  {
   "cell_type": "code",
   "execution_count": 12,
   "metadata": {},
   "outputs": [],
   "source": [
    "hparams = {\n",
    "    'lr' : 0.01,\n",
    "    'weight_decay':0,\n",
    "    'num_features': dataset.num_features,\n",
    "    'latent_dim' : 30\n",
    "}\n",
    "model = NodeLevelGNN(hparams)"
   ]
  },
  {
   "cell_type": "code",
   "execution_count": 13,
   "metadata": {},
   "outputs": [
    {
     "name": "stderr",
     "output_type": "stream",
     "text": [
      "GPU available: True, used: True\n",
      "TPU available: False, using: 0 TPU cores\n",
      "IPU available: False, using: 0 IPUs\n",
      "HPU available: False, using: 0 HPUs\n"
     ]
    }
   ],
   "source": [
    "trainer = pl.Trainer(\n",
    "    #  callbacks=[pl.callbacks.EarlyStopping(monitor=\"val_loss\",patience=10,mode='max')],\n",
    "    max_epochs=200,\n",
    "    accelerator='gpu',\n",
    "    devices=1\n",
    ")"
   ]
  },
  {
   "cell_type": "code",
   "execution_count": 14,
   "metadata": {
    "scrolled": false
   },
   "outputs": [
    {
     "name": "stderr",
     "output_type": "stream",
     "text": [
      "LOCAL_RANK: 0 - CUDA_VISIBLE_DEVICES: [0]\n",
      "\n",
      "  | Name  | Type | Params\n",
      "-------------------------------\n",
      "0 | model | VGAE | 6.4 K \n",
      "-------------------------------\n",
      "6.4 K     Trainable params\n",
      "0         Non-trainable params\n",
      "6.4 K     Total params\n",
      "0.025     Total estimated model params size (MB)\n"
     ]
    },
    {
     "data": {
      "application/vnd.jupyter.widget-view+json": {
       "model_id": "6f67ef97a4cf4244846d697b35cbb3fe",
       "version_major": 2,
       "version_minor": 0
      },
      "text/plain": [
       "Training: 0it [00:00, ?it/s]"
      ]
     },
     "metadata": {},
     "output_type": "display_data"
    }
   ],
   "source": [
    "trainer.fit(model,dataloader)"
   ]
  }
 ],
 "metadata": {
  "kernelspec": {
   "display_name": "Python 3 (ipykernel)",
   "language": "python",
   "name": "python3"
  },
  "language_info": {
   "codemirror_mode": {
    "name": "ipython",
    "version": 3
   },
   "file_extension": ".py",
   "mimetype": "text/x-python",
   "name": "python",
   "nbconvert_exporter": "python",
   "pygments_lexer": "ipython3",
   "version": "3.8.13"
  },
  "vscode": {
   "interpreter": {
    "hash": "a2d03c6a34750e60d8dd9ca1a6ee0965fb69595564131e0d0a03d064a4a81ea0"
   }
  }
 },
 "nbformat": 4,
 "nbformat_minor": 4
}
