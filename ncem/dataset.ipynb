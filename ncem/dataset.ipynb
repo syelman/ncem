{
 "cells": [
  {
   "cell_type": "code",
   "execution_count": 1,
   "metadata": {},
   "outputs": [],
   "source": [
    "%load_ext autoreload\n",
    "%autoreload 2\n",
    "\n",
    "import ncem\n",
    "import matplotlib.pyplot as plt\n",
    "import pandas as pd\n",
    "import os.path as osp\n",
    "import scanpy as sc\n",
    "import pytorch_lightning as pl\n",
    "sc.settings.set_figure_params(dpi=80)\n",
    "import warnings\n",
    "warnings.filterwarnings(\"ignore\")\n",
    "\n",
    "\n",
    "import torch_geometric,torch\n",
    "from torch_geometric.data import Data, Dataset, InMemoryDataset, LightningDataset\n",
    "from torch_geometric.loader import NeighborLoader\n"
   ]
  },
  {
   "cell_type": "code",
   "execution_count": 2,
   "metadata": {},
   "outputs": [],
   "source": [
    "class HartmannWrapper(Dataset):\n",
    "    def __init__(self, root='./data', transform=None, pre_transform=None, pre_filter=None):\n",
    "        self.img_count = 58\n",
    "        self.root = root\n",
    "        super().__init__(root, transform, pre_transform, pre_filter)\n",
    "    \n",
    "    # raw file name\n",
    "    @property\n",
    "    def raw_file_names(self):\n",
    "        return ['scMEP_MIBI_singlecell/scMEP_MIBI_singlecell.csv']\n",
    "\n",
    "    \n",
    "    # Each graph is saved as a file\n",
    "    # Is this ideal?\n",
    "    @property\n",
    "    def processed_file_names(self):\n",
    "        return [f'data_{idx}.pt' for idx in range(self.img_count)]\n",
    "\n",
    "\n",
    "    def process(self):\n",
    "        \n",
    "        # Read from already implemented DataLoader to load to np/cpu\n",
    "        self.interpreter = ncem.interpretation.interpreter.InterpreterInteraction()\n",
    "        ip = self.interpreter\n",
    "        # Read data from `raw_path`.\n",
    "        ip.get_data(\n",
    "            data_origin='hartmann',\n",
    "            data_path=self.root,\n",
    "            radius=35,\n",
    "            node_label_space_id='type',\n",
    "            node_feature_space_id='standard',\n",
    "        )\n",
    "        for idx,k in enumerate(ip.a.keys()):\n",
    "            a,h_0,h_1,domains,node_covar,sf = ip.a[k],ip.h_0[k],ip.h_1[k],ip.domains[k],ip.node_covar[k],ip.size_factors[k]\n",
    "            \n",
    "            # creating torch sparse tensor\n",
    "            row,col = a.nonzero()\n",
    "            a_sparse = torch.sparse.LongTensor(torch.LongTensor([row.tolist(), col.tolist()]),\n",
    "                              torch.ones(len(row),dtype=torch.long)).coalesce()\n",
    "            \n",
    "            # one hot vector\n",
    "            g = torch.zeros(ip.n_domains)\n",
    "            g[domains] = 1\n",
    "            \n",
    "            # creating data object\n",
    "            data = Data(x=a_sparse,\n",
    "                        g=g,\n",
    "                        sf=torch.from_numpy(sf),\n",
    "                        h_0=torch.from_numpy(h_0),\n",
    "                        h_1=torch.from_numpy(h_1),\n",
    "                        edge_index=a_sparse.indices()\n",
    "                       )\n",
    "            # saving it as file\n",
    "            torch.save(data, osp.join(self.processed_dir, f'data_{idx}.pt'))\n",
    "\n",
    "    def len(self):\n",
    "        return len(self.processed_file_names)\n",
    "\n",
    "    def get(self, idx):\n",
    "        data = torch.load(osp.join(self.processed_dir, f'data_{idx}.pt'))\n",
    "        return data"
   ]
  },
  {
   "cell_type": "code",
   "execution_count": 3,
   "metadata": {},
   "outputs": [
    {
     "data": {
      "text/plain": [
       "Data(x=[1338, 1338], edge_index=[2, 6636], g=[58], sf=[1338], h_0=[1338, 8], h_1=[1338, 36])"
      ]
     },
     "execution_count": 3,
     "metadata": {},
     "output_type": "execute_result"
    }
   ],
   "source": [
    "dataset = HartmannWrapper()\n",
    "dataset[0]"
   ]
  },
  {
   "cell_type": "code",
   "execution_count": 53,
   "metadata": {},
   "outputs": [],
   "source": [
    "loader = NeighborLoader(\n",
    "    dataset[0],\n",
    "    # Sample 30 neighbors for each node for 2 iterations\n",
    "    num_neighbors=[30] * 2,\n",
    "    # Use a batch size of 128 for sampling training nodes\n",
    "    batch_size=128,\n",
    ")\n"
   ]
  },
  {
   "cell_type": "code",
   "execution_count": 54,
   "metadata": {},
   "outputs": [
    {
     "name": "stdout",
     "output_type": "stream",
     "text": [
      "Data(x=[175, 1338], edge_index=[2, 623], g=[58], sf=[175], h_0=[175, 8], h_1=[175, 36], batch_size=128)\n",
      "Data(x=[234, 1338], edge_index=[2, 918], g=[58], sf=[234], h_0=[234, 8], h_1=[234, 36], batch_size=128)\n",
      "Data(x=[240, 1338], edge_index=[2, 1028], g=[58], sf=[240], h_0=[240, 8], h_1=[240, 36], batch_size=128)\n",
      "Data(x=[232, 1338], edge_index=[2, 957], g=[58], sf=[232], h_0=[232, 8], h_1=[232, 36], batch_size=128)\n",
      "Data(x=[263, 1338], edge_index=[2, 972], g=[58], sf=[263], h_0=[263, 8], h_1=[263, 36], batch_size=128)\n",
      "Data(x=[253, 1338], edge_index=[2, 1065], g=[58], sf=[253], h_0=[253, 8], h_1=[253, 36], batch_size=128)\n",
      "Data(x=[247, 1338], edge_index=[2, 996], g=[58], sf=[247], h_0=[247, 8], h_1=[247, 36], batch_size=128)\n",
      "Data(x=[243, 1338], edge_index=[2, 920], g=[58], sf=[243], h_0=[243, 8], h_1=[243, 36], batch_size=128)\n",
      "Data(x=[259, 1338], edge_index=[2, 950], g=[58], sf=[259], h_0=[259, 8], h_1=[259, 36], batch_size=128)\n",
      "Data(x=[227, 1338], edge_index=[2, 1051], g=[58], sf=[227], h_0=[227, 8], h_1=[227, 36], batch_size=128)\n",
      "Data(x=[118, 1338], edge_index=[2, 418], g=[58], sf=[118], h_0=[118, 8], h_1=[118, 36], batch_size=58)\n"
     ]
    }
   ],
   "source": [
    "for neighs in loader:\n",
    "    print(neighs)"
   ]
  },
  {
   "cell_type": "code",
   "execution_count": null,
   "metadata": {},
   "outputs": [],
   "source": [
    "ldataset = LightningDataset(train_dataset=dataset)\n",
    "ldataset.train_dataset[0].sf"
   ]
  }
 ],
 "metadata": {
  "kernelspec": {
   "display_name": "Python 3 (ipykernel)",
   "language": "python",
   "name": "python3"
  },
  "language_info": {
   "codemirror_mode": {
    "name": "ipython",
    "version": 3
   },
   "file_extension": ".py",
   "mimetype": "text/x-python",
   "name": "python",
   "nbconvert_exporter": "python",
   "pygments_lexer": "ipython3",
   "version": "3.8.13"
  },
  "vscode": {
   "interpreter": {
    "hash": "a2d03c6a34750e60d8dd9ca1a6ee0965fb69595564131e0d0a03d064a4a81ea0"
   }
  }
 },
 "nbformat": 4,
 "nbformat_minor": 4
}
