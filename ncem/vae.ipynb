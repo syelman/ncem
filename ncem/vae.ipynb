{
 "cells": [
  {
   "cell_type": "code",
   "execution_count": 3,
   "metadata": {},
   "outputs": [],
   "source": [
    "%load_ext autoreload\n",
    "%autoreload 2\n",
    "\n",
    "import ncem\n",
    "import matplotlib.pyplot as plt\n",
    "import pandas as pd\n",
    "import os.path as osp\n",
    "import scanpy as sc\n",
    "import pytorch_lightning as pl\n",
    "sc.settings.set_figure_params(dpi=80)\n",
    "import warnings\n",
    "warnings.filterwarnings(\"ignore\")\n",
    "\n",
    "\n",
    "import torch_geometric,torch\n",
    "from torch_geometric.data import Data, Dataset, InMemoryDataset, LightningDataset\n",
    "from torch_geometric.loader import NeighborLoader\n",
    "from torch_geometric.nn import VGAE\n"
   ]
  },
  {
   "cell_type": "code",
   "execution_count": 4,
   "metadata": {},
   "outputs": [],
   "source": [
    "class HartmannWrapper(Dataset):\n",
    "    def __init__(self, root='./data', transform=None, pre_transform=None, pre_filter=None):\n",
    "        self.img_count = 58\n",
    "        self.root = root\n",
    "        super().__init__(root, transform, pre_transform, pre_filter)\n",
    "    \n",
    "    # raw file name\n",
    "    @property\n",
    "    def raw_file_names(self):\n",
    "        return ['scMEP_MIBI_singlecell/scMEP_MIBI_singlecell.csv']\n",
    "\n",
    "    \n",
    "    # Each graph is saved as a file\n",
    "    # Is this ideal?\n",
    "    @property\n",
    "    def processed_file_names(self):\n",
    "        return [f'data_{idx}.pt' for idx in range(self.img_count)]\n",
    "\n",
    "\n",
    "    def process(self):\n",
    "        \n",
    "        # Read from already implemented DataLoader to load to np/cpu\n",
    "        self.interpreter = ncem.interpretation.interpreter.InterpreterInteraction()\n",
    "        ip = self.interpreter\n",
    "        # Read data from `raw_path`.\n",
    "        ip.get_data(\n",
    "            data_origin='hartmann',\n",
    "            data_path=self.root,\n",
    "            radius=35,\n",
    "            node_label_space_id='type',\n",
    "            node_feature_space_id='standard',\n",
    "        )\n",
    "        for idx,k in enumerate(ip.a.keys()):\n",
    "            a,h_0,h_1,domains,node_covar,sf = ip.a[k],ip.h_0[k],ip.h_1[k],ip.domains[k],ip.node_covar[k],ip.size_factors[k]\n",
    "            \n",
    "            # Edge list (2,n_edges)\n",
    "            row,col = a.nonzero()\n",
    "            edge_index = torch.LongTensor([row.tolist(), col.tolist()])\n",
    "            \n",
    "            \n",
    "            # X_c from the paper (n_domains=58)\n",
    "            # one hot vector\n",
    "            g = torch.zeros(ip.n_domains)\n",
    "            g[domains] = 1\n",
    "            \n",
    "            # X_l from paper (n_node, n_celltypes=8) n_celltypes: count of distinct cell-type labels\n",
    "            h_0=torch.from_numpy(h_0)\n",
    "            \n",
    "            # size factor\n",
    "            sf=torch.from_numpy(sf)\n",
    "            \n",
    "            # Y from paper (n_node, n_genes)\n",
    "            h_1 = torch.from_numpy(h_1)\n",
    "            \n",
    "            # creating data object\n",
    "            data = Data(g=g,\n",
    "                        sf=sf,\n",
    "                        h_0=h_0,\n",
    "                        h_1=h_1,\n",
    "                        edge_index=edge_index)\n",
    "            # saving it as file\n",
    "            torch.save(data, osp.join(self.processed_dir, f'data_{idx}.pt'))\n",
    "\n",
    "    def len(self):\n",
    "        return len(self.processed_file_names)\n",
    "\n",
    "    def get(self, idx):\n",
    "        data = torch.load(osp.join(self.processed_dir, f'data_{idx}.pt'))\n",
    "        return data"
   ]
  },
  {
   "cell_type": "code",
   "execution_count": 5,
   "metadata": {},
   "outputs": [
    {
     "data": {
      "text/plain": [
       "Data(edge_index=[2, 6636], g=[58], sf=[1338], h_0=[1338, 8], h_1=[1338, 36])"
      ]
     },
     "execution_count": 5,
     "metadata": {},
     "output_type": "execute_result"
    }
   ],
   "source": [
    "dataset = HartmannWrapper()\n",
    "data = dataset[0]\n",
    "data"
   ]
  },
  {
   "cell_type": "code",
   "execution_count": 6,
   "metadata": {
    "scrolled": true
   },
   "outputs": [
    {
     "name": "stdout",
     "output_type": "stream",
     "text": [
      "Loading data from raw files\n",
      "registering celldata\n",
      "collecting image-wise celldata\n",
      "adding graph-level covariates\n"
     ]
    },
    {
     "name": "stderr",
     "output_type": "stream",
     "text": [
      "100%|███████████████████████████████████████████████████████████████████████████████████████████████████████████████████████████████████████████████████████████████████████████████████████████████████████| 58/58 [00:01<00:00, 43.44it/s]"
     ]
    },
    {
     "name": "stdout",
     "output_type": "stream",
     "text": [
      "Loaded 58 images with complete data from 4 patients over 63747 cells with 36 cell features and 8 distinct celltypes.\n",
      "Mean of mean node degree per images across images: 4.416036\n"
     ]
    },
    {
     "name": "stderr",
     "output_type": "stream",
     "text": [
      "\n"
     ]
    }
   ],
   "source": [
    "dataset.process()"
   ]
  },
  {
   "cell_type": "code",
   "execution_count": 7,
   "metadata": {},
   "outputs": [],
   "source": [
    "import torch\n",
    "from torch_geometric.nn import GCNConv\n",
    "from torch_geometric.utils import train_test_split_edges"
   ]
  },
  {
   "cell_type": "code",
   "execution_count": 8,
   "metadata": {},
   "outputs": [],
   "source": [
    "class VariationalGCNEncoder(torch.nn.Module):\n",
    "    def __init__(self, in_channels, out_channels):\n",
    "        super(VariationalGCNEncoder, self).__init__()\n",
    "        self.conv1 = GCNConv(in_channels, 2 * out_channels) # cached only for transductive learning\n",
    "        self.conv_mu = GCNConv(2 * out_channels, out_channels)\n",
    "        self.conv_logstd = GCNConv(2 * out_channels, out_channels)\n",
    "\n",
    "    def forward(self, x, edge_index):\n",
    "        x = self.conv1(x, edge_index).relu()\n",
    "        return self.conv_mu(x, edge_index), self.conv_logstd(x, edge_index)"
   ]
  },
  {
   "cell_type": "code",
   "execution_count": 9,
   "metadata": {},
   "outputs": [],
   "source": [
    "\n",
    "out_channels = 40\n",
    "num_features = data.h_1.shape[1]\n",
    "epochs = 100\n",
    "\n",
    "\n",
    "model = VGAE(VariationalGCNEncoder(num_features, out_channels))  # new line\n",
    "\n",
    "device = torch.device('cuda' if torch.cuda.is_available() else 'cpu')\n",
    "model = model.to(device)\n",
    "x = data.h_1.to(device)\n",
    "train_pos_edge_index = data.edge_index.to(device)\n",
    "optimizer = torch.optim.Adam(model.parameters(), lr=0.01)"
   ]
  },
  {
   "cell_type": "code",
   "execution_count": 10,
   "metadata": {},
   "outputs": [],
   "source": [
    "def train():\n",
    "    model.train()\n",
    "    optimizer.zero_grad()\n",
    "    z = model.encode(x, train_pos_edge_index)\n",
    "    loss = model.recon_loss(z, train_pos_edge_index)\n",
    "    \n",
    "    loss = loss + (1 / data.num_nodes) * model.kl_loss()  # new line\n",
    "    loss.backward()\n",
    "    optimizer.step()\n",
    "    return float(loss)\n",
    "\n"
   ]
  },
  {
   "cell_type": "code",
   "execution_count": 11,
   "metadata": {},
   "outputs": [
    {
     "name": "stdout",
     "output_type": "stream",
     "text": [
      "7.717545032501221\n",
      "4.558232307434082\n",
      "3.575956344604492\n",
      "2.937342405319214\n",
      "2.481600761413574\n",
      "2.100987195968628\n",
      "1.7955822944641113\n",
      "1.6123396158218384\n",
      "1.4992790222167969\n",
      "1.465749979019165\n",
      "1.4823532104492188\n",
      "1.479212760925293\n",
      "1.4713855981826782\n",
      "1.4611177444458008\n",
      "1.4399937391281128\n",
      "1.4218488931655884\n",
      "1.4179853200912476\n",
      "1.4139822721481323\n",
      "1.416288137435913\n",
      "1.4166896343231201\n",
      "1.4108033180236816\n",
      "1.4061412811279297\n",
      "1.4008482694625854\n",
      "1.3929495811462402\n",
      "1.383109450340271\n",
      "1.3763481378555298\n",
      "1.370819330215454\n",
      "1.3599259853363037\n",
      "1.34652841091156\n",
      "1.336995005607605\n",
      "1.323346495628357\n",
      "1.3131020069122314\n",
      "1.302992582321167\n",
      "1.2905007600784302\n",
      "1.2787847518920898\n",
      "1.276010274887085\n",
      "1.264812707901001\n",
      "1.2548037767410278\n",
      "1.2538169622421265\n",
      "1.248529076576233\n",
      "1.2573899030685425\n",
      "1.2374838590621948\n",
      "1.246610403060913\n",
      "1.2307378053665161\n",
      "1.2483290433883667\n",
      "1.2382105588912964\n",
      "1.2340731620788574\n",
      "1.2299022674560547\n",
      "1.2261991500854492\n",
      "1.2201356887817383\n",
      "1.2206525802612305\n",
      "1.2183811664581299\n",
      "1.2183687686920166\n",
      "1.2043516635894775\n",
      "1.2088160514831543\n",
      "1.200800895690918\n",
      "1.1974828243255615\n",
      "1.1887065172195435\n",
      "1.183550238609314\n",
      "1.1911450624465942\n",
      "1.1815576553344727\n",
      "1.1792826652526855\n",
      "1.1719427108764648\n",
      "1.168811559677124\n",
      "1.18059241771698\n",
      "1.177391529083252\n",
      "1.1710790395736694\n",
      "1.1788029670715332\n",
      "1.1813064813613892\n",
      "1.1714909076690674\n",
      "1.167929768562317\n",
      "1.1612430810928345\n",
      "1.1704177856445312\n",
      "1.1599591970443726\n",
      "1.1664156913757324\n",
      "1.1604351997375488\n",
      "1.1530855894088745\n",
      "1.1403590440750122\n",
      "1.1587549448013306\n",
      "1.13957941532135\n",
      "1.1610032320022583\n",
      "1.1360225677490234\n",
      "1.1516464948654175\n",
      "1.1443804502487183\n",
      "1.1443501710891724\n",
      "1.1524871587753296\n",
      "1.133256435394287\n",
      "1.139840841293335\n",
      "1.1396801471710205\n",
      "1.1329383850097656\n",
      "1.1415674686431885\n",
      "1.1220269203186035\n",
      "1.131687045097351\n",
      "1.131481647491455\n",
      "1.1405830383300781\n",
      "1.1253724098205566\n",
      "1.1412956714630127\n",
      "1.1202934980392456\n",
      "1.1229777336120605\n",
      "1.1289126873016357\n"
     ]
    }
   ],
   "source": [
    "for epoch in range(1, epochs + 1):\n",
    "    loss = train()\n",
    "    print(loss)\n"
   ]
  },
  {
   "cell_type": "code",
   "execution_count": null,
   "metadata": {},
   "outputs": [],
   "source": []
  }
 ],
 "metadata": {
  "kernelspec": {
   "display_name": "Python 3 (ipykernel)",
   "language": "python",
   "name": "python3"
  },
  "language_info": {
   "codemirror_mode": {
    "name": "ipython",
    "version": 3
   },
   "file_extension": ".py",
   "mimetype": "text/x-python",
   "name": "python",
   "nbconvert_exporter": "python",
   "pygments_lexer": "ipython3",
   "version": "3.8.13"
  },
  "vscode": {
   "interpreter": {
    "hash": "a2d03c6a34750e60d8dd9ca1a6ee0965fb69595564131e0d0a03d064a4a81ea0"
   }
  }
 },
 "nbformat": 4,
 "nbformat_minor": 4
}
