{
 "cells": [
  {
   "cell_type": "code",
   "execution_count": 136,
   "metadata": {},
   "outputs": [],
   "source": [
    "import scanpy as sc\n",
    "import squidpy as sq\n",
    "import torch\n",
    "import numpy as np\n",
    "import pandas as pd\n",
    "from torch_geometric.data import Dataset, Data, HeteroData\n",
    "import torch_sparse\n",
    "from torch_geometric.loader import NeighborLoader"
   ]
  },
  {
   "cell_type": "markdown",
   "metadata": {},
   "source": [
    "Dataset with 1 image"
   ]
  },
  {
   "cell_type": "code",
   "execution_count": 137,
   "metadata": {},
   "outputs": [],
   "source": [
    "#Load dataset \n",
    "adata = sq.datasets.imc()"
   ]
  },
  {
   "cell_type": "code",
   "execution_count": 138,
   "metadata": {},
   "outputs": [
    {
     "data": {
      "text/plain": [
       "(4668, 34)"
      ]
     },
     "execution_count": 138,
     "metadata": {},
     "output_type": "execute_result"
    }
   ],
   "source": [
    "adata.X.shape"
   ]
  },
  {
   "cell_type": "code",
   "execution_count": 139,
   "metadata": {},
   "outputs": [
    {
     "data": {
      "image/png": "[encoded data removed]",
      "text/plain": [
       "<Figure size 432x288 with 1 Axes>"
      ]
     },
     "metadata": {},
     "output_type": "display_data"
    }
   ],
   "source": [
    "#Sample nodes from training data \n",
    "randint=np.random.randint(0,adata.n_obs+1)\n",
    "sq.gr.spatial_neighbors(adata, coord_type=\"generic\")\n",
    "_, idx = adata.obsp[\"spatial_connectivities\"][randint, :].nonzero()\n",
    "idx = np.append(idx, randint)\n",
    "sc.pl.spatial(\n",
    "    adata[idx, :],\n",
    "    color=\"cell type\",\n",
    "    neighbors_key=\"spatial_neighbors\",\n",
    "    spot_size=1,\n",
    "    edges=True,\n",
    "    edges_width=1,\n",
    "    img_key=None,\n",
    ")"
   ]
  },
  {
   "cell_type": "code",
   "execution_count": 140,
   "metadata": {},
   "outputs": [],
   "source": [
    "#Get adjacency matrix\n",
    "A=adata.obsp['spatial_connectivities']"
   ]
  },
  {
   "cell_type": "code",
   "execution_count": 141,
   "metadata": {},
   "outputs": [],
   "source": [
    "#Get edge index\n",
    "indices=A.nonzero()\n",
    "edge_index=torch.tensor(np.array(indices))"
   ]
  },
  {
   "cell_type": "code",
   "execution_count": 142,
   "metadata": {},
   "outputs": [],
   "source": [
    "#Get features of nodes \n",
    "X=adata.obs\n",
    "X=pd.get_dummies(X)\n",
    "X=X.to_numpy()"
   ]
  },
  {
   "cell_type": "code",
   "execution_count": 143,
   "metadata": {},
   "outputs": [
    {
     "data": {
      "text/plain": [
       "(4668, 11)"
      ]
     },
     "execution_count": 143,
     "metadata": {},
     "output_type": "execute_result"
    }
   ],
   "source": [
    "X.shape"
   ]
  },
  {
   "cell_type": "code",
   "execution_count": 144,
   "metadata": {
    "scrolled": true
   },
   "outputs": [
    {
     "data": {
      "text/plain": [
       "(4668, 34)"
      ]
     },
     "execution_count": 144,
     "metadata": {},
     "output_type": "execute_result"
    }
   ],
   "source": [
    "#Get labels of nodes\n",
    "Y=adata.X\n",
    "Y.shape"
   ]
  },
  {
   "cell_type": "code",
   "execution_count": 145,
   "metadata": {},
   "outputs": [],
   "source": [
    "Acoo = A.tocoo()"
   ]
  },
  {
   "cell_type": "code",
   "execution_count": 146,
   "metadata": {},
   "outputs": [],
   "source": [
    "A_sparse = torch.sparse.FloatTensor(torch.LongTensor([Acoo.row.tolist(), Acoo.col.tolist()]),\n",
    "                              torch.FloatTensor(Acoo.data)).coalesce()"
   ]
  },
  {
   "cell_type": "code",
   "execution_count": 151,
   "metadata": {},
   "outputs": [
    {
     "data": {
      "text/plain": [
       "tensor(indices=tensor([[   0,    0,    0,  ..., 4667, 4667, 4667],\n",
       "                       [  41,   43,   56,  ..., 4566, 4592, 4617]]),\n",
       "       values=tensor([1., 1., 1.,  ..., 1., 1., 1.]),\n",
       "       size=(4668, 4668), nnz=28008, layout=torch.sparse_coo)"
      ]
     },
     "execution_count": 151,
     "metadata": {},
     "output_type": "execute_result"
    }
   ],
   "source": [
    "A_sparse"
   ]
  },
  {
   "cell_type": "code",
   "execution_count": 158,
   "metadata": {},
   "outputs": [],
   "source": [
    "data = Data(x=A_sparse,edge_index=A_sparse.indices(),train_mask=torch.arange(A.shape[0]))"
   ]
  },
  {
   "cell_type": "code",
   "execution_count": 159,
   "metadata": {},
   "outputs": [
    {
     "data": {
      "text/plain": [
       "Data(x=[4668, 4668], edge_index=[2, 28008], train_mask=[4668])"
      ]
     },
     "execution_count": 159,
     "metadata": {},
     "output_type": "execute_result"
    }
   ],
   "source": [
    "data"
   ]
  },
  {
   "cell_type": "code",
   "execution_count": 160,
   "metadata": {},
   "outputs": [],
   "source": [
    "loader = NeighborLoader(\n",
    "    data,\n",
    "    # Sample 30 neighbors for each node for 2 iterations\n",
    "    num_neighbors=[30] * 2,\n",
    "    # Use a batch size of 128 for sampling training nodes\n",
    "    batch_size=128,\n",
    ")\n"
   ]
  },
  {
   "cell_type": "code",
   "execution_count": 161,
   "metadata": {},
   "outputs": [],
   "source": [
    "sampled_data = next(iter(loader))"
   ]
  },
  {
   "cell_type": "code",
   "execution_count": 162,
   "metadata": {
    "scrolled": true
   },
   "outputs": [
    {
     "data": {
      "text/plain": [
       "Data(x=[292, 4668], edge_index=[2, 1254], train_mask=[292], batch_size=128)"
      ]
     },
     "execution_count": 162,
     "metadata": {},
     "output_type": "execute_result"
    }
   ],
   "source": [
    "sampled_data ## this is one batch"
   ]
  },
  {
   "cell_type": "markdown",
   "metadata": {},
   "source": [
    "Sampled nodes are sorted based on the order in which they were sampled. In particular, the first batch_size nodes represent the set of original mini-batch nodes. Since we gave all the train indices in a sorted fashion the first 128 nodes are sorted the others are their randomly sampled neighbours.\n",
    "\n",
    "From the documentation on [NeighborLoader](https://pytorch-geometric.readthedocs.io/en/latest/modules/loader.html#torch_geometric.loader.NeighborLoader):\n",
    "\"More specifically, num_neighbors denotes how much neighbors are sampled for each node in each iteration. NeighborLoader takes in this list of num_neighbors and iteratively samples num_neighbors[i] for each node involved in iteration i - 1.\"\n",
    "\n",
    "This means when sampling, after the second iteration, we might resample the nodes we visited, so this is more like a random walk sampling."
   ]
  },
  {
   "cell_type": "code",
   "execution_count": 171,
   "metadata": {},
   "outputs": [
    {
     "data": {
      "text/plain": [
       "tensor([  0,   1,   2,   3,   4,   5,   6,   7,   8,   9,  10,  11,  12,  13,\n",
       "         14,  15,  16,  17,  18,  19,  20,  21,  22,  23,  24,  25,  26,  27,\n",
       "         28,  29,  30,  31,  32,  33,  34,  35,  36,  37,  38,  39,  40,  41,\n",
       "         42,  43,  44,  45,  46,  47,  48,  49,  50,  51,  52,  53,  54,  55,\n",
       "         56,  57,  58,  59,  60,  61,  62,  63,  64,  65,  66,  67,  68,  69,\n",
       "         70,  71,  72,  73,  74,  75,  76,  77,  78,  79,  80,  81,  82,  83,\n",
       "         84,  85,  86,  87,  88,  89,  90,  91,  92,  93,  94,  95,  96,  97,\n",
       "         98,  99, 100, 101, 102, 103, 104, 105, 106, 107, 108, 109, 110, 111,\n",
       "        112, 113, 114, 115, 116, 117, 118, 119, 120, 121, 122, 123, 124, 125,\n",
       "        126, 127, 172, 150, 151, 135, 136, 139, 128, 129, 153, 130, 174, 147,\n",
       "        205, 175, 154, 140, 141, 149, 134, 194, 158, 165, 199, 169, 137, 155,\n",
       "        157, 152, 166, 143, 144, 145, 173, 142, 156, 177, 162, 164, 193, 186,\n",
       "        132, 146, 190, 138, 160, 133, 159, 131, 183, 184, 180, 161, 189, 148,\n",
       "        171, 188, 170, 178, 185, 163, 179, 204, 231, 191, 203, 215, 242, 267,\n",
       "        207, 187, 209, 206, 201, 181, 224, 269, 212, 218, 220, 234, 168, 200,\n",
       "        211, 235, 195, 210, 238, 255, 197, 167, 192, 262, 316, 239, 265, 305,\n",
       "        387, 217, 198, 258, 230, 227, 216, 182, 266, 290, 202, 213, 322, 243,\n",
       "        253, 295, 256, 229, 208, 176, 196, 222, 221, 275, 223, 232, 260, 240,\n",
       "        251, 233, 252, 254, 228, 282, 246, 263, 214, 219, 226, 237, 245, 257,\n",
       "        244, 259, 247, 225, 236, 304, 336, 248, 274, 370, 334, 286, 289, 301,\n",
       "        250, 272, 284, 297, 321, 366, 373, 314, 294, 299, 241, 278])"
      ]
     },
     "execution_count": 171,
     "metadata": {},
     "output_type": "execute_result"
    }
   ],
   "source": [
    "sampled_data.train_mask"
   ]
  },
  {
   "cell_type": "code",
   "execution_count": 172,
   "metadata": {
    "scrolled": true
   },
   "outputs": [
    {
     "name": "stdout",
     "output_type": "stream",
     "text": [
      "Data(x=[292, 4668], edge_index=[2, 1254], train_mask=[292], batch_size=128)\n",
      "Data(x=[410, 4668], edge_index=[2, 1734], train_mask=[410], batch_size=128)\n",
      "Data(x=[438, 4668], edge_index=[2, 1662], train_mask=[438], batch_size=128)\n",
      "Data(x=[445, 4668], edge_index=[2, 1740], train_mask=[445], batch_size=128)\n",
      "Data(x=[408, 4668], edge_index=[2, 1584], train_mask=[408], batch_size=128)\n",
      "Data(x=[438, 4668], edge_index=[2, 1704], train_mask=[438], batch_size=128)\n",
      "Data(x=[433, 4668], edge_index=[2, 1584], train_mask=[433], batch_size=128)\n",
      "Data(x=[424, 4668], edge_index=[2, 1662], train_mask=[424], batch_size=128)\n",
      "Data(x=[413, 4668], edge_index=[2, 1620], train_mask=[413], batch_size=128)\n",
      "Data(x=[443, 4668], edge_index=[2, 1662], train_mask=[443], batch_size=128)\n",
      "Data(x=[427, 4668], edge_index=[2, 1638], train_mask=[427], batch_size=128)\n",
      "Data(x=[431, 4668], edge_index=[2, 1620], train_mask=[431], batch_size=128)\n",
      "Data(x=[424, 4668], edge_index=[2, 1674], train_mask=[424], batch_size=128)\n",
      "Data(x=[442, 4668], edge_index=[2, 1662], train_mask=[442], batch_size=128)\n",
      "Data(x=[437, 4668], edge_index=[2, 1674], train_mask=[437], batch_size=128)\n",
      "Data(x=[424, 4668], edge_index=[2, 1644], train_mask=[424], batch_size=128)\n",
      "Data(x=[445, 4668], edge_index=[2, 1704], train_mask=[445], batch_size=128)\n",
      "Data(x=[428, 4668], edge_index=[2, 1650], train_mask=[428], batch_size=128)\n",
      "Data(x=[438, 4668], edge_index=[2, 1698], train_mask=[438], batch_size=128)\n",
      "Data(x=[435, 4668], edge_index=[2, 1674], train_mask=[435], batch_size=128)\n",
      "Data(x=[429, 4668], edge_index=[2, 1644], train_mask=[429], batch_size=128)\n",
      "Data(x=[428, 4668], edge_index=[2, 1650], train_mask=[428], batch_size=128)\n",
      "Data(x=[434, 4668], edge_index=[2, 1644], train_mask=[434], batch_size=128)\n",
      "Data(x=[419, 4668], edge_index=[2, 1602], train_mask=[419], batch_size=128)\n",
      "Data(x=[429, 4668], edge_index=[2, 1650], train_mask=[429], batch_size=128)\n",
      "Data(x=[441, 4668], edge_index=[2, 1638], train_mask=[441], batch_size=128)\n",
      "Data(x=[427, 4668], edge_index=[2, 1590], train_mask=[427], batch_size=128)\n",
      "Data(x=[437, 4668], edge_index=[2, 1728], train_mask=[437], batch_size=128)\n",
      "Data(x=[425, 4668], edge_index=[2, 1644], train_mask=[425], batch_size=128)\n",
      "Data(x=[449, 4668], edge_index=[2, 1728], train_mask=[449], batch_size=128)\n",
      "Data(x=[433, 4668], edge_index=[2, 1650], train_mask=[433], batch_size=128)\n",
      "Data(x=[441, 4668], edge_index=[2, 1692], train_mask=[441], batch_size=128)\n",
      "Data(x=[435, 4668], edge_index=[2, 1728], train_mask=[435], batch_size=128)\n",
      "Data(x=[455, 4668], edge_index=[2, 1710], train_mask=[455], batch_size=128)\n",
      "Data(x=[433, 4668], edge_index=[2, 1620], train_mask=[433], batch_size=128)\n",
      "Data(x=[354, 4668], edge_index=[2, 1644], train_mask=[354], batch_size=128)\n",
      "Data(x=[240, 4668], edge_index=[2, 948], train_mask=[240], batch_size=60)\n"
     ]
    }
   ],
   "source": [
    "for a in loader:\n",
    "    print(a)"
   ]
  },
  {
   "cell_type": "code",
   "execution_count": 10,
   "metadata": {},
   "outputs": [],
   "source": [
    "#Sample n nodes + 1-neighbour and save individual graphs in files (iterate over all nodes)\n",
    "\n",
    "n=200\n",
    "no_batches=adata.n_obs//200\n",
    "for batch in range(no_batches):\n",
    "    indices=np.random.choice(adata.n_obs, size=200)\n",
    "    #get features and labels of selected nodes\n",
    "    X_s=X[indices]\n",
    "    Y_s=Y[indices]\n",
    "\n",
    "    #get node indices of direct neighbours (Output: list of length n)\n",
    "    neigh_ind=[]\n",
    "    neigh_max=0\n",
    "    for index in indices:\n",
    "        neigh_ind.append(A[index].nonzero()[1])\n",
    "        neigh_max=max(neigh_max,len(A[index].nonzero()[0]))\n",
    "\n",
    "    #Use neigh_ind to get features of all neighbours of each sampled node (Output array n x neighbours[padded] x features)\n",
    "    \n",
    "    #How to do this?\n",
    "    #Do we want output array: For batch i: no. node samples x neighbours[padded] x features (e.g.200 x max_neighs x no features)\n",
    "    \n",
    "    '''X_neigh_all = []\n",
    "    for index in range(n):\n",
    "        X_neigh=np.zeros([neigh_max,X.shape[1]])\n",
    "        for i in \n",
    "        for i, neigh in (range(neigh_max),neigh_ind[index]):\n",
    "            X_neigh[i]=X[neigh]\n",
    "        X_neigh_all.append(X_neigh)'''\n"
   ]
  },
  {
   "cell_type": "markdown",
   "metadata": {},
   "source": [
    "Create Pytorch Geometric dataset"
   ]
  },
  {
   "cell_type": "code",
   "execution_count": 11,
   "metadata": {},
   "outputs": [
    {
     "ename": "SyntaxError",
     "evalue": "invalid syntax (3386935298.py, line 4)",
     "output_type": "error",
     "traceback": [
      "\u001b[0;36m  Input \u001b[0;32mIn [11]\u001b[0;36m\u001b[0m\n\u001b[0;31m    self.filename = .. # List of raw files, in your case point cloud\u001b[0m\n\u001b[0m                    ^\u001b[0m\n\u001b[0;31mSyntaxError\u001b[0m\u001b[0;31m:\u001b[0m invalid syntax\n"
     ]
    }
   ],
   "source": [
    "#Create PyG dataset from graphs saved in files\n",
    "class MyCustomDataset(Dataset):\n",
    "    def __init__():\n",
    "        self.filename = .. # List of raw files, in your case point cloud\n",
    "        super(MyCustomDataset, self).__init()\n",
    "\n",
    "    @property\n",
    "    def raw_file_names(self):\n",
    "        return self.filename\n",
    "    \n",
    "    @property\n",
    "    def processed_file_names(self):\n",
    "        \"\"\" return list of files should be in processed dir, if found - skip processing.\"\"\"\n",
    "        processed_filename = []\n",
    "        return processed_filename\n",
    "    def download(self):\n",
    "        pass\n",
    "\n",
    "    def process(self):\n",
    "        for file in self.raw_paths:\n",
    "            self._process_one_step(file)\n",
    "\n",
    "    def _process_one_step(self, path):\n",
    "        out_path = (self.processed_dir, \"some_unique_filename.pt\")\n",
    "        # read your point cloud here, \n",
    "        # convert point cloud to Data object\n",
    "        data = Data(x=node_features,\n",
    "                    edge_index=edge_index,\n",
    "                    edge_attr=edge_attr,\n",
    "                    y=label #you can add more arguments as you like\n",
    "                    )\n",
    "        torch.save(data, out_path)\n",
    "        return\n",
    "\n",
    "    def __len__(self):\n",
    "        return len(self.processed_file_names)\n",
    "\n",
    "    def __getitem__(self, idx):\n",
    "        data = torch.load(os.path.join(self.processed_dir, self.processed_file_names[idx]))\n",
    "        return data"
   ]
  },
  {
   "cell_type": "code",
   "execution_count": 12,
   "metadata": {},
   "outputs": [],
   "source": [
    "#Sample n nodes and save individual graphs in files (iterate over all nodes)\n",
    "import torch\n",
    "from torch_geometric.data import Data\n",
    "\n",
    "x = torch.tensor(X, dtype=torch.float)\n",
    "\n",
    "data=Data(x=x, edge_index=edge_index)\n",
    "\n",
    "\n",
    "    \n",
    "\n"
   ]
  },
  {
   "cell_type": "code",
   "execution_count": 13,
   "metadata": {},
   "outputs": [
    {
     "data": {
      "text/plain": [
       "Data(x=[4668, 11], edge_index=[2, 28008])"
      ]
     },
     "execution_count": 13,
     "metadata": {},
     "output_type": "execute_result"
    }
   ],
   "source": [
    "data"
   ]
  },
  {
   "cell_type": "code",
   "execution_count": 72,
   "metadata": {},
   "outputs": [],
   "source": [
    "P=np.array([[0,1,1,1],[1,0,1,0],[1,1,0,0],[1,0,0,0]])"
   ]
  },
  {
   "cell_type": "code",
   "execution_count": 87,
   "metadata": {},
   "outputs": [],
   "source": [
    "indices =[0,1]\n",
    "neigh_ind=[]\n",
    "for index in indices:\n",
    "    neigh_ind.append(P[index].nonzero()[0])"
   ]
  },
  {
   "cell_type": "code",
   "execution_count": 88,
   "metadata": {},
   "outputs": [
    {
     "data": {
      "text/plain": [
       "[array([1, 2, 3]), array([0, 2])]"
      ]
     },
     "execution_count": 88,
     "metadata": {},
     "output_type": "execute_result"
    }
   ],
   "source": [
    "neigh_ind"
   ]
  },
  {
   "cell_type": "code",
   "execution_count": 86,
   "metadata": {},
   "outputs": [
    {
     "data": {
      "text/plain": [
       "array([0, 2])"
      ]
     },
     "execution_count": 86,
     "metadata": {},
     "output_type": "execute_result"
    }
   ],
   "source": [
    "P[index].nonzero()[0]"
   ]
  }
 ],
 "metadata": {
  "kernelspec": {
   "display_name": "Python 3.8.13 ('ncem')",
   "language": "python",
   "name": "python3"
  },
  "language_info": {
   "codemirror_mode": {
    "name": "ipython",
    "version": 3
   },
   "file_extension": ".py",
   "mimetype": "text/x-python",
   "name": "python",
   "nbconvert_exporter": "python",
   "pygments_lexer": "ipython3",
   "version": "3.8.13"
  },
  "vscode": {
   "interpreter": {
    "hash": "a2d03c6a34750e60d8dd9ca1a6ee0965fb69595564131e0d0a03d064a4a81ea0"
   }
  }
 },
 "nbformat": 4,
 "nbformat_minor": 2
}
